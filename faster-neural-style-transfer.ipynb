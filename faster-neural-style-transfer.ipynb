{
 "cells": [
  {
   "cell_type": "code",
   "execution_count": 1,
   "id": "2c803c7d",
   "metadata": {
    "_cell_guid": "b1076dfc-b9ad-4769-8c92-a6c4dae69d19",
    "_uuid": "8f2839f25d086af736a60e9eeb907d3b93b6e0e5",
    "execution": {
     "iopub.execute_input": "2024-04-14T17:55:40.600806Z",
     "iopub.status.busy": "2024-04-14T17:55:40.600526Z",
     "iopub.status.idle": "2024-04-14T17:55:47.972590Z",
     "shell.execute_reply": "2024-04-14T17:55:47.971761Z"
    },
    "papermill": {
     "duration": 7.380919,
     "end_time": "2024-04-14T17:55:47.974964",
     "exception": false,
     "start_time": "2024-04-14T17:55:40.594045",
     "status": "completed"
    },
    "tags": []
   },
   "outputs": [],
   "source": [
    "# 导入必要的库\n",
    "import os\n",
    "import torch\n",
    "from torch import nn\n",
    "from torchvision.models import vgg16\n",
    "from collections import namedtuple\n",
    "import numpy as np\n",
    "import torchvision as tv\n",
    "from torch.utils import data\n",
    "import tqdm\n",
    "from torch.nn import functional as F\n",
    "import matplotlib.pyplot as plt"
   ]
  },
  {
   "cell_type": "code",
   "execution_count": 2,
   "id": "05ab5895",
   "metadata": {
    "execution": {
     "iopub.execute_input": "2024-04-14T17:55:47.987243Z",
     "iopub.status.busy": "2024-04-14T17:55:47.986036Z",
     "iopub.status.idle": "2024-04-14T17:55:47.994214Z",
     "shell.execute_reply": "2024-04-14T17:55:47.993298Z"
    },
    "papermill": {
     "duration": 0.015973,
     "end_time": "2024-04-14T17:55:47.996270",
     "exception": false,
     "start_time": "2024-04-14T17:55:47.980297",
     "status": "completed"
    },
    "tags": []
   },
   "outputs": [],
   "source": [
    "# 加载VGG-16神经网络\n",
    "class Vgg16(nn.Module):\n",
    "    def __init__(self):\n",
    "        super(Vgg16, self).__init__()\n",
    "        features = list(vgg16(pretrained=True).features)[:23]\n",
    "        self.features = nn.ModuleList(features).eval()\n",
    "\n",
    "    def forward(self, x):\n",
    "        results = []\n",
    "        # feature的第3，8，15，22层分别是：relu1_2，relu2_2，relu3_3，relu4_3\n",
    "        for ii, model in enumerate(self.features):\n",
    "            x = model(x)\n",
    "            if ii in {3, 8, 15, 22}:\n",
    "                results.append(x)\n",
    "\n",
    "        vgg_outputs = namedtuple(\"VggOutputs\", ['relu1_2', 'relu2_2', 'relu3_3', 'relu4_3'])\n",
    "        return vgg_outputs(*results)"
   ]
  },
  {
   "cell_type": "code",
   "execution_count": 3,
   "id": "eb51a81d",
   "metadata": {
    "execution": {
     "iopub.execute_input": "2024-04-14T17:55:48.007593Z",
     "iopub.status.busy": "2024-04-14T17:55:48.007215Z",
     "iopub.status.idle": "2024-04-14T17:55:48.013567Z",
     "shell.execute_reply": "2024-04-14T17:55:48.012638Z"
    },
    "papermill": {
     "duration": 0.014254,
     "end_time": "2024-04-14T17:55:48.015547",
     "exception": false,
     "start_time": "2024-04-14T17:55:48.001293",
     "status": "completed"
    },
    "tags": []
   },
   "outputs": [],
   "source": [
    "# 卷积块\n",
    "class ConvLayer(nn.Module):\n",
    "    def __init__(self, in_channels, out_channels, kernel_size, stride):\n",
    "        super(ConvLayer, self).__init__()\n",
    "        reflection_padding = int(np.floor(kernel_size / 2))\n",
    "        self.reflection_pad = nn.ReflectionPad2d(reflection_padding)\n",
    "        self.conv2d = nn.Conv2d(in_channels, out_channels, kernel_size, stride)\n",
    "\n",
    "    def forward(self, x):\n",
    "        out = self.reflection_pad(x)\n",
    "        out = self.conv2d(out)\n",
    "        return out"
   ]
  },
  {
   "cell_type": "code",
   "execution_count": 4,
   "id": "cebd8f75",
   "metadata": {
    "execution": {
     "iopub.execute_input": "2024-04-14T17:55:48.026721Z",
     "iopub.status.busy": "2024-04-14T17:55:48.026420Z",
     "iopub.status.idle": "2024-04-14T17:55:48.032995Z",
     "shell.execute_reply": "2024-04-14T17:55:48.032200Z"
    },
    "papermill": {
     "duration": 0.014122,
     "end_time": "2024-04-14T17:55:48.034857",
     "exception": false,
     "start_time": "2024-04-14T17:55:48.020735",
     "status": "completed"
    },
    "tags": []
   },
   "outputs": [],
   "source": [
    "# 上采样\n",
    "class UpsampleConvLayer(nn.Module):\n",
    "\n",
    "    def __init__(self, in_channels, out_channels, kernel_size, stride, upsample=None):\n",
    "        super(UpsampleConvLayer, self).__init__()\n",
    "        self.upsample = upsample\n",
    "        reflection_padding = int(np.floor(kernel_size / 2))\n",
    "        self.reflection_pad = nn.ReflectionPad2d(reflection_padding)\n",
    "        self.conv2d = nn.Conv2d(in_channels, out_channels, kernel_size, stride)\n",
    "\n",
    "    def forward(self, x):\n",
    "        x_in = x\n",
    "        if self.upsample:\n",
    "            x_in = torch.nn.functional.interpolate(x_in, scale_factor=self.upsample)\n",
    "        out = self.reflection_pad(x_in)\n",
    "        out = self.conv2d(out)\n",
    "        return out"
   ]
  },
  {
   "cell_type": "code",
   "execution_count": 5,
   "id": "5940ef30",
   "metadata": {
    "execution": {
     "iopub.execute_input": "2024-04-14T17:55:48.045306Z",
     "iopub.status.busy": "2024-04-14T17:55:48.045031Z",
     "iopub.status.idle": "2024-04-14T17:55:48.051806Z",
     "shell.execute_reply": "2024-04-14T17:55:48.050975Z"
    },
    "papermill": {
     "duration": 0.014175,
     "end_time": "2024-04-14T17:55:48.053777",
     "exception": false,
     "start_time": "2024-04-14T17:55:48.039602",
     "status": "completed"
    },
    "tags": []
   },
   "outputs": [],
   "source": [
    "# 残差块\n",
    "class ResidualBlock(nn.Module):\n",
    "\n",
    "    def __init__(self, channels):\n",
    "        super(ResidualBlock, self).__init__()\n",
    "        self.conv1 = ConvLayer(channels, channels, kernel_size=3, stride=1)\n",
    "        self.in1 = nn.InstanceNorm2d(channels, affine=True)\n",
    "        self.conv2 = ConvLayer(channels, channels, kernel_size=3, stride=1)\n",
    "        self.in2 = nn.InstanceNorm2d(channels, affine=True)\n",
    "        self.relu = nn.ReLU()\n",
    "\n",
    "    def forward(self, x):\n",
    "        residual = x\n",
    "        out = self.relu(self.in1(self.conv1(x)))\n",
    "        out = self.in2(self.conv2(out))\n",
    "        out = out + residual\n",
    "        return out"
   ]
  },
  {
   "cell_type": "code",
   "execution_count": 6,
   "id": "10e9751c",
   "metadata": {
    "execution": {
     "iopub.execute_input": "2024-04-14T17:55:48.064224Z",
     "iopub.status.busy": "2024-04-14T17:55:48.063955Z",
     "iopub.status.idle": "2024-04-14T17:55:48.074633Z",
     "shell.execute_reply": "2024-04-14T17:55:48.073709Z"
    },
    "papermill": {
     "duration": 0.018345,
     "end_time": "2024-04-14T17:55:48.076685",
     "exception": false,
     "start_time": "2024-04-14T17:55:48.058340",
     "status": "completed"
    },
    "tags": []
   },
   "outputs": [],
   "source": [
    "# U-Net\n",
    "class TransformerNet(nn.Module):\n",
    "    def __init__(self):\n",
    "        super(TransformerNet, self).__init__()\n",
    "\n",
    "        # 下采样\n",
    "        self.initial_layers = nn.Sequential(\n",
    "            ConvLayer(3, 32, kernel_size=9, stride=1),\n",
    "            nn.InstanceNorm2d(32, affine=True),\n",
    "            nn.ReLU(True),\n",
    "            ConvLayer(32, 64, kernel_size=3, stride=2),\n",
    "            nn.InstanceNorm2d(64, affine=True),\n",
    "            nn.ReLU(True),\n",
    "            ConvLayer(64, 128, kernel_size=3, stride=2),\n",
    "            nn.InstanceNorm2d(128, affine=True),\n",
    "            nn.ReLU(True),\n",
    "        )\n",
    "\n",
    "        # 残差层\n",
    "        self.res_layers = nn.Sequential(\n",
    "            ResidualBlock(128),\n",
    "            ResidualBlock(128),\n",
    "            ResidualBlock(128),\n",
    "            ResidualBlock(128),\n",
    "            ResidualBlock(128)\n",
    "        )\n",
    "\n",
    "        # 上采样\n",
    "        self.upsample_layers = nn.Sequential(\n",
    "            UpsampleConvLayer(128, 64, kernel_size=3, stride=1, upsample=2),\n",
    "            nn.InstanceNorm2d(64, affine=True),\n",
    "            nn.ReLU(True),\n",
    "            UpsampleConvLayer(64, 32, kernel_size=3, stride=1, upsample=2),\n",
    "            nn.InstanceNorm2d(32, affine=True),\n",
    "            nn.ReLU(True),\n",
    "            ConvLayer(32, 3, kernel_size=9, stride=1)\n",
    "        )\n",
    "\n",
    "    # 正向传播\n",
    "    def forward(self, x):\n",
    "        x = self.initial_layers(x)\n",
    "        x = self.res_layers(x)\n",
    "        x = self.upsample_layers(x)\n",
    "        return x"
   ]
  },
  {
   "cell_type": "code",
   "execution_count": 7,
   "id": "03353560",
   "metadata": {
    "execution": {
     "iopub.execute_input": "2024-04-14T17:55:48.087587Z",
     "iopub.status.busy": "2024-04-14T17:55:48.087271Z",
     "iopub.status.idle": "2024-04-14T17:55:48.095312Z",
     "shell.execute_reply": "2024-04-14T17:55:48.094530Z"
    },
    "papermill": {
     "duration": 0.015603,
     "end_time": "2024-04-14T17:55:48.097224",
     "exception": false,
     "start_time": "2024-04-14T17:55:48.081621",
     "status": "completed"
    },
    "tags": []
   },
   "outputs": [],
   "source": [
    "IMAGENET_MEAN = [0.485, 0.456, 0.406]\n",
    "IMAGENET_STD = [0.229, 0.224, 0.225]\n",
    "\n",
    "mean = [0.485, 0.456, 0.406]\n",
    "std = [0.229, 0.224, 0.225]\n",
    "\n",
    "# 计算gram矩阵\n",
    "def gram_matrix(y):\n",
    "    \"\"\"\n",
    "    Input shape: b,c,h,w\n",
    "    Output shape: b,c,c\n",
    "    \"\"\"\n",
    "    (b, ch, h, w) = y.size()\n",
    "    features = y.view(b, ch, w * h)\n",
    "    features_t = features.transpose(1, 2)\n",
    "    gram = features.bmm(features_t) / (ch * h * w)\n",
    "    return gram\n",
    "\n",
    "# 加载风格图片\n",
    "def get_style_data(path):\n",
    "    \"\"\"\n",
    "    load style image，\n",
    "    Return： tensor shape 1*c*h*w, normalized\n",
    "    \"\"\"\n",
    "    style_transform = tv.transforms.Compose([\n",
    "        tv.transforms.ToTensor(),\n",
    "        tv.transforms.Normalize(mean=IMAGENET_MEAN, std=IMAGENET_STD),\n",
    "    ])\n",
    "\n",
    "    style_image = tv.datasets.folder.default_loader(path)\n",
    "    style_tensor = style_transform(style_image)\n",
    "    return style_tensor.unsqueeze(0)"
   ]
  },
  {
   "cell_type": "code",
   "execution_count": 8,
   "id": "8e5687a2",
   "metadata": {
    "execution": {
     "iopub.execute_input": "2024-04-14T17:55:48.107865Z",
     "iopub.status.busy": "2024-04-14T17:55:48.107604Z",
     "iopub.status.idle": "2024-04-14T17:55:48.115334Z",
     "shell.execute_reply": "2024-04-14T17:55:48.114485Z"
    },
    "papermill": {
     "duration": 0.015484,
     "end_time": "2024-04-14T17:55:48.117365",
     "exception": false,
     "start_time": "2024-04-14T17:55:48.101881",
     "status": "completed"
    },
    "tags": []
   },
   "outputs": [],
   "source": [
    "# 标准化图片batch\n",
    "def normalize_batch(batch):\n",
    "    \"\"\"\n",
    "    Input: b,ch,h,w  0~255\n",
    "    Output: b,ch,h,w  -2~2\n",
    "    \"\"\"\n",
    "    mean = batch.data.new(IMAGENET_MEAN).view(1, -1, 1, 1)\n",
    "    std = batch.data.new(IMAGENET_STD).view(1, -1, 1, 1)\n",
    "    mean = (mean.expand_as(batch.data))\n",
    "    std = (std.expand_as(batch.data))\n",
    "    return (batch / 255.0 - mean) / std\n",
    "\n",
    "class Config(object):\n",
    "    # General Args\n",
    "    # use_gpu = True\n",
    "    # model_path = None  # pretrain model path (for resume training or test)\n",
    "\n",
    "    # Train Args\n",
    "    image_size = 256  # image crop_size for training\n",
    "    batch_size = 8\n",
    "    data_root = '/kaggle/input/mini-coco2014-dataset-for-image-captioning'  # dataset root：$data_root/coco/a.jpg\n",
    "    num_workers = 4  # dataloader num of workers\n",
    "\n",
    "    lr = 1e-3\n",
    "    epoches = 2  # total epoch to train\n",
    "    content_weight = 1e5  # weight of content_loss\n",
    "    style_weight = 1e10  # weight of style_loss\n",
    "\n",
    "    style_path = '/kaggle/input/monet-style/style.jpg'  # style image path\n",
    "    # env = 'neural-style'  # visdom env\n",
    "    plot_every = 100  # visualize in visdom for every 10 batch\n",
    "\n",
    "    # debug_file = '/tmp/debugnn'  # touch $debug_fie to interrupt and enter ipdb\n",
    "\n",
    "    # Test Args\n",
    "    content_path = '/kaggle/input/mini-coco2014-dataset-for-image-captioning/Images/COCO_train2014_000000000009.jpg'  # input file to do style transfer [for test]\n",
    "    result_path = '/kaggle/working/'  # style transfer result [for test]\n",
    "    \n",
    "    ngpu = 2"
   ]
  },
  {
   "cell_type": "code",
   "execution_count": 9,
   "id": "94993b98",
   "metadata": {
    "execution": {
     "iopub.execute_input": "2024-04-14T17:55:48.127974Z",
     "iopub.status.busy": "2024-04-14T17:55:48.127725Z",
     "iopub.status.idle": "2024-04-14T17:55:48.131623Z",
     "shell.execute_reply": "2024-04-14T17:55:48.130765Z"
    },
    "papermill": {
     "duration": 0.011559,
     "end_time": "2024-04-14T17:55:48.133729",
     "exception": false,
     "start_time": "2024-04-14T17:55:48.122170",
     "status": "completed"
    },
    "tags": []
   },
   "outputs": [],
   "source": [
    "def show(num):\n",
    "    pass"
   ]
  },
  {
   "cell_type": "code",
   "execution_count": 10,
   "id": "80ada0d5",
   "metadata": {
    "execution": {
     "iopub.execute_input": "2024-04-14T17:55:48.144611Z",
     "iopub.status.busy": "2024-04-14T17:55:48.144305Z",
     "iopub.status.idle": "2024-04-14T17:55:48.151277Z",
     "shell.execute_reply": "2024-04-14T17:55:48.150404Z"
    },
    "papermill": {
     "duration": 0.014342,
     "end_time": "2024-04-14T17:55:48.153151",
     "exception": false,
     "start_time": "2024-04-14T17:55:48.138809",
     "status": "completed"
    },
    "tags": []
   },
   "outputs": [],
   "source": [
    "def test(path1, path2):\n",
    "    content_image = tv.datasets.folder.default_loader(path1)\n",
    "    content_transform = tv.transforms.Compose([\n",
    "        tv.transforms.ToTensor(),\n",
    "        tv.transforms.Lambda(lambda x: x.mul(255))\n",
    "    ])\n",
    "    content_image = content_transform(content_image)\n",
    "    content_image = content_image.unsqueeze(0).to(device).detach()\n",
    "    # style transfer and save output\n",
    "    transformer.eval()\n",
    "    with torch.no_grad():\n",
    "        output = transformer(content_image)\n",
    "        output_data = output.cpu().data[0]\n",
    "        tv.utils.save_image(((output_data / 255)).clamp(min=0, max=1), path2)\n",
    "    transformer.train()"
   ]
  },
  {
   "cell_type": "code",
   "execution_count": 11,
   "id": "c69db2c8",
   "metadata": {
    "execution": {
     "iopub.execute_input": "2024-04-14T17:55:48.164091Z",
     "iopub.status.busy": "2024-04-14T17:55:48.163813Z",
     "iopub.status.idle": "2024-04-14T17:55:48.243453Z",
     "shell.execute_reply": "2024-04-14T17:55:48.242515Z"
    },
    "papermill": {
     "duration": 0.087416,
     "end_time": "2024-04-14T17:55:48.245411",
     "exception": false,
     "start_time": "2024-04-14T17:55:48.157995",
     "status": "completed"
    },
    "tags": []
   },
   "outputs": [],
   "source": [
    "opt = Config()\n",
    "\n",
    "# 设置训练设备\n",
    "device = torch.device(\"cuda\" if torch.cuda.is_available() else \"cpu\")\n",
    "\n",
    "# Data loading\n",
    "transfroms = tv.transforms.Compose([\n",
    "    tv.transforms.Resize(opt.image_size),\n",
    "    tv.transforms.CenterCrop(opt.image_size),\n",
    "    tv.transforms.ToTensor(),\n",
    "    tv.transforms.Lambda(lambda x: x * 255)\n",
    "])"
   ]
  },
  {
   "cell_type": "code",
   "execution_count": 12,
   "id": "a5b24d50",
   "metadata": {
    "execution": {
     "iopub.execute_input": "2024-04-14T17:55:48.256112Z",
     "iopub.status.busy": "2024-04-14T17:55:48.255812Z",
     "iopub.status.idle": "2024-04-14T17:56:02.489119Z",
     "shell.execute_reply": "2024-04-14T17:56:02.488034Z"
    },
    "papermill": {
     "duration": 14.241424,
     "end_time": "2024-04-14T17:56:02.491742",
     "exception": false,
     "start_time": "2024-04-14T17:55:48.250318",
     "status": "completed"
    },
    "tags": []
   },
   "outputs": [],
   "source": [
    "dataset = tv.datasets.ImageFolder(opt.data_root, transfroms)\n",
    "dataloader = data.DataLoader(dataset, opt.batch_size)"
   ]
  },
  {
   "cell_type": "code",
   "execution_count": 13,
   "id": "4139ef2c",
   "metadata": {
    "execution": {
     "iopub.execute_input": "2024-04-14T17:56:02.503487Z",
     "iopub.status.busy": "2024-04-14T17:56:02.502717Z",
     "iopub.status.idle": "2024-04-14T17:56:09.004776Z",
     "shell.execute_reply": "2024-04-14T17:56:09.003858Z"
    },
    "papermill": {
     "duration": 6.510316,
     "end_time": "2024-04-14T17:56:09.007112",
     "exception": false,
     "start_time": "2024-04-14T17:56:02.496796",
     "status": "completed"
    },
    "tags": []
   },
   "outputs": [
    {
     "name": "stderr",
     "output_type": "stream",
     "text": [
      "/opt/conda/lib/python3.10/site-packages/torchvision/models/_utils.py:208: UserWarning: The parameter 'pretrained' is deprecated since 0.13 and may be removed in the future, please use 'weights' instead.\n",
      "  warnings.warn(\n",
      "/opt/conda/lib/python3.10/site-packages/torchvision/models/_utils.py:223: UserWarning: Arguments other than a weight enum or `None` for 'weights' are deprecated since 0.13 and may be removed in the future. The current behavior is equivalent to passing `weights=VGG16_Weights.IMAGENET1K_V1`. You can also use `weights=VGG16_Weights.DEFAULT` to get the most up-to-date weights.\n",
      "  warnings.warn(msg)\n",
      "Downloading: \"https://download.pytorch.org/models/vgg16-397923af.pth\" to /root/.cache/torch/hub/checkpoints/vgg16-397923af.pth\n",
      "100%|██████████| 528M/528M [00:03<00:00, 159MB/s]\n"
     ]
    }
   ],
   "source": [
    "vgg = Vgg16().eval()\n",
    "vgg.to(device)\n",
    "for param in vgg.parameters():\n",
    "    param.requires_grad = False\n",
    "\n",
    "style = get_style_data(opt.style_path)       # 1*c*h*w\n",
    "# print(style.size())\n",
    "style = style.to(device)\n",
    "\n",
    "transformer = TransformerNet()\n",
    "transformer.to(device)\n",
    "\n",
    "if torch.cuda.is_available() and opt.ngpu > 1:         # 当 torch.cuda.is_available() 为真且 ngpu > 1 时              \n",
    "    transformer = nn.DataParallel(transformer, device_ids=list(range(opt.ngpu)))\n",
    "    \n",
    "# Optimizer\n",
    "optimizer = torch.optim.Adam(transformer.parameters(), opt.lr)\n",
    "\n",
    "# gram matrix for style image\n",
    "with torch.no_grad():\n",
    "    features_style = vgg(style)\n",
    "    gram_style = [gram_matrix(y) for y in features_style]\n",
    "\n",
    "content_losses = []\n",
    "style_losses = []"
   ]
  },
  {
   "cell_type": "code",
   "execution_count": 14,
   "id": "e0ec8c34",
   "metadata": {
    "execution": {
     "iopub.execute_input": "2024-04-14T17:56:09.025573Z",
     "iopub.status.busy": "2024-04-14T17:56:09.025260Z",
     "iopub.status.idle": "2024-04-14T18:27:10.713681Z",
     "shell.execute_reply": "2024-04-14T18:27:10.712630Z"
    },
    "papermill": {
     "duration": 1861.700729,
     "end_time": "2024-04-14T18:27:10.715911",
     "exception": false,
     "start_time": "2024-04-14T17:56:09.015182",
     "status": "completed"
    },
    "tags": []
   },
   "outputs": [
    {
     "name": "stderr",
     "output_type": "stream",
     "text": [
      "2348it [15:27,  2.53it/s]\n",
      "2348it [15:33,  2.52it/s]\n"
     ]
    },
    {
     "data": {
      "image/png": "[encoded data removed]",
      "text/plain": [
       "<Figure size 640x480 with 1 Axes>"
      ]
     },
     "metadata": {},
     "output_type": "display_data"
    },
    {
     "data": {
      "image/png": "[encoded data removed]",
      "text/plain": [
       "<Figure size 640x480 with 1 Axes>"
      ]
     },
     "metadata": {},
     "output_type": "display_data"
    }
   ],
   "source": [
    "for epoch in range(opt.epoches):\n",
    "    for ii, (x, _) in tqdm.tqdm(enumerate(dataloader)):\n",
    "        # Train\n",
    "        optimizer.zero_grad()\n",
    "        x = x.to(device)\n",
    "        y = transformer(x)\n",
    "        y = normalize_batch(y)\n",
    "        x = normalize_batch(x)\n",
    "        features_y = vgg(y)\n",
    "        features_x = vgg(x)\n",
    "\n",
    "        # content loss\n",
    "        content_loss = opt.content_weight * F.mse_loss(features_y.relu2_2, features_x.relu2_2)\n",
    "\n",
    "        # style loss\n",
    "        style_loss = 0.\n",
    "        for ft_y, gm_s in zip(features_y, gram_style):\n",
    "            gram_y = gram_matrix(ft_y)\n",
    "            style_loss += F.mse_loss(gram_y, gm_s.expand_as(gram_y))\n",
    "\n",
    "        style_loss *= opt.style_weight\n",
    "\n",
    "        content_losses.append(content_loss.item())\n",
    "        style_losses.append(style_loss.item())\n",
    "\n",
    "        total_loss = content_loss + style_loss\n",
    "        total_loss.backward()\n",
    "        optimizer.step()\n",
    "\n",
    "        if (ii + 1) % opt.plot_every == 0:\n",
    "            show((ii + 1)/opt.plot_every)\n",
    "\n",
    "torch.save(transformer.state_dict(),\n",
    "           '/kaggle/working/model_best.pth')\n",
    "\n",
    "plt.figure(1)\n",
    "plt.plot(content_losses)\n",
    "plt.figure(2)\n",
    "plt.plot(style_losses)\n",
    "plt.show()\n",
    "\n",
    "# transformer.load_state_dict(torch.load('/kaggle/working/model_best.pth'))\n",
    "# A = '/kaggle/working/test.jpg'\n",
    "# B = '/kaggle/working/output.jpg'\n",
    "# test(A, B)"
   ]
  }
 ],
 "metadata": {
  "kaggle": {
   "accelerator": "nvidiaTeslaT4",
   "dataSources": [
    {
     "datasetId": 2938312,
     "sourceId": 5060663,
     "sourceType": "datasetVersion"
    },
    {
     "datasetId": 4796899,
     "sourceId": 8118543,
     "sourceType": "datasetVersion"
    }
   ],
   "dockerImageVersionId": 30683,
   "isGpuEnabled": true,
   "isInternetEnabled": true,
   "language": "python",
   "sourceType": "notebook"
  },
  "kernelspec": {
   "display_name": "Python 3",
   "language": "python",
   "name": "python3"
  },
  "language_info": {
   "codemirror_mode": {
    "name": "ipython",
    "version": 3
   },
   "file_extension": ".py",
   "mimetype": "text/x-python",
   "name": "python",
   "nbconvert_exporter": "python",
   "pygments_lexer": "ipython3",
   "version": "3.10.13"
  },
  "papermill": {
   "default_parameters": {},
   "duration": 1896.342837,
   "end_time": "2024-04-14T18:27:13.910222",
   "environment_variables": {},
   "exception": null,
   "input_path": "__notebook__.ipynb",
   "output_path": "__notebook__.ipynb",
   "parameters": {},
   "start_time": "2024-04-14T17:55:37.567385",
   "version": "2.5.0"
  }
 },
 "nbformat": 4,
 "nbformat_minor": 5
}
